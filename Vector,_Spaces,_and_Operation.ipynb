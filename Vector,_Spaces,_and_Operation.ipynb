{
  "nbformat": 4,
  "nbformat_minor": 0,
  "metadata": {
    "colab": {
      "provenance": [],
      "authorship_tag": "ABX9TyOCe1Mi0K22vVLm6Y9wcSoD",
      "include_colab_link": true
    },
    "kernelspec": {
      "name": "python3",
      "display_name": "Python 3"
    },
    "language_info": {
      "name": "python"
    }
  },
  "cells": [
    {
      "cell_type": "markdown",
      "metadata": {
        "id": "view-in-github",
        "colab_type": "text"
      },
      "source": [
        "<a href=\"https://colab.research.google.com/github/PrinceDaveIgnacio/58013_LINEAR_ALGEBRA/blob/main/Vector%2C_Spaces%2C_and_Operation.ipynb\" target=\"_parent\"><img src=\"https://colab.research.google.com/assets/colab-badge.svg\" alt=\"Open In Colab\"/></a>"
      ]
    },
    {
      "cell_type": "code",
      "source": [
        "import numpy as np\n",
        "A = np.array([4,3])\n",
        "B = np.array([2,-5])\n",
        "\n",
        "print('Vector', A)\n",
        "print('Vector', B)"
      ],
      "metadata": {
        "colab": {
          "base_uri": "https://localhost:8080/"
        },
        "id": "dJSF38CAg6Jo",
        "outputId": "de6e16d6-af36-4831-acd6-dfc41b1ffead"
      },
      "execution_count": 1,
      "outputs": [
        {
          "output_type": "stream",
          "name": "stdout",
          "text": [
            "Vector [4 3]\n",
            "Vector [ 2 -5]\n"
          ]
        }
      ]
    },
    {
      "cell_type": "markdown",
      "source": [
        "Side Dimension, Size"
      ],
      "metadata": {
        "id": "C_mpUM65jCjX"
      }
    },
    {
      "cell_type": "code",
      "source": [
        "import numpy as np\n",
        "ball1 = np.array([1,2,3])\n",
        "ball2 = np.array([0,1,-1])\n",
        "\n",
        "#ball = np.vstack((ball1,ball2))\n",
        "ball = np.shape(ball1)\n",
        "balls = np.shape(ball2)\n",
        "z = ball + balls\n",
        "print(z)\n",
        "x = np.i0(ball1)\n",
        "\n",
        "print(x)"
      ],
      "metadata": {
        "colab": {
          "base_uri": "https://localhost:8080/"
        },
        "id": "BTvvDmNAjCGX",
        "outputId": "26e4fedb-51e1-447e-d542-c7ce5d264af2"
      },
      "execution_count": 36,
      "outputs": [
        {
          "output_type": "stream",
          "name": "stdout",
          "text": [
            "(3, 3)\n",
            "[1.26606588 2.2795853  4.88079259]\n"
          ]
        }
      ]
    },
    {
      "cell_type": "markdown",
      "source": [
        "Vector\n",
        "Scalar\n",
        "Tensor"
      ],
      "metadata": {
        "id": "T17CYP92owSN"
      }
    },
    {
      "cell_type": "markdown",
      "source": [
        "Addition of Vector"
      ],
      "metadata": {
        "id": "7JOM6oVnsLt1"
      }
    },
    {
      "cell_type": "code",
      "source": [
        "import numpy as np\n",
        "\n",
        "#addiiton of vector\n",
        "\n",
        "A = np.array([4,3])\n",
        "B  = np.array([2,-5])\n",
        "R = np.add(A,B)\n",
        "print(R)\n",
        "\n",
        "#subtraction\n",
        "\n",
        "R1 = np.subtract(A,B)\n",
        "R1_1 = np.subtract(B,A)\n",
        "print(R1_1)\n",
        "print(R1)\n",
        "\n",
        "\n",
        "#Scalar Product\n",
        "\n",
        "Num1 = np.array([2,4,6])\n",
        "R1_2 = np.multiply(A,B)\n",
        "print(R1_2)\n",
        "\n",
        "#Scalar Product Sample 2\n",
        "\n",
        "S = np.array([2])\n",
        "V = S * A\n",
        "\n",
        "print(V)\n",
        "\n",
        "\n",
        "#Dot Product\n",
        "dotprod = np.multiply(A,B)\n",
        "\n",
        "print(dotprod)"
      ],
      "metadata": {
        "colab": {
          "base_uri": "https://localhost:8080/"
        },
        "id": "tuYbg3h3ouaN",
        "outputId": "7c272944-22b0-4dbc-a927-0f5a1a5a9312"
      },
      "execution_count": 64,
      "outputs": [
        {
          "output_type": "stream",
          "name": "stdout",
          "text": [
            "[ 6 -2]\n",
            "[-2 -8]\n",
            "[2 8]\n",
            "[  8 -15]\n",
            "[8 6]\n",
            "[  8 -15]\n"
          ]
        }
      ]
    },
    {
      "cell_type": "code",
      "source": [
        "#Property of matrix\n",
        "\n",
        "#identity matrix\n",
        "#all diagonals are one\n",
        "A = np.eye(2,5)\n",
        "\n",
        "print(A)\n",
        "\n",
        "#Zero Matrix\n",
        "B = np.zeros([5,5])\n",
        "\n",
        "print(B)"
      ],
      "metadata": {
        "colab": {
          "base_uri": "https://localhost:8080/"
        },
        "id": "gNtvRAoPt5gl",
        "outputId": "44c73cdb-2755-43e5-8834-bc6c266964f3"
      },
      "execution_count": 74,
      "outputs": [
        {
          "output_type": "stream",
          "name": "stdout",
          "text": [
            "[[1. 0. 0. 0. 0.]\n",
            " [0. 1. 0. 0. 0.]]\n",
            "[[0. 0. 0. 0. 0.]\n",
            " [0. 0. 0. 0. 0.]\n",
            " [0. 0. 0. 0. 0.]\n",
            " [0. 0. 0. 0. 0.]\n",
            " [0. 0. 0. 0. 0.]]\n"
          ]
        }
      ]
    },
    {
      "cell_type": "code",
      "source": [
        "e = np.full((3,3), 7)\n",
        "print(e)"
      ],
      "metadata": {
        "colab": {
          "base_uri": "https://localhost:8080/"
        },
        "id": "oMvVaaiu0eKj",
        "outputId": "04eeca4b-80f9-44cc-8ce7-af4c1f1d4d58"
      },
      "execution_count": 76,
      "outputs": [
        {
          "output_type": "stream",
          "name": "stdout",
          "text": [
            "[[7 7 7]\n",
            " [7 7 7]\n",
            " [7 7 7]]\n"
          ]
        }
      ]
    },
    {
      "cell_type": "code",
      "source": [
        "#transpose matrix\n",
        "A1 = np.array([4,3])\n",
        "trans = np.transpose(A1)\n",
        "print(trans)"
      ],
      "metadata": {
        "colab": {
          "base_uri": "https://localhost:8080/"
        },
        "id": "EVxj9tmY0s08",
        "outputId": "0d4afd85-fe7c-42ad-85aa-1d744abc7b7a"
      },
      "execution_count": 78,
      "outputs": [
        {
          "output_type": "stream",
          "name": "stdout",
          "text": [
            "[4 3]\n"
          ]
        }
      ]
    }
  ]
}