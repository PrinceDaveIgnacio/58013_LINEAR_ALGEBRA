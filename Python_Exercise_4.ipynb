{
  "nbformat": 4,
  "nbformat_minor": 0,
  "metadata": {
    "colab": {
      "provenance": [],
      "authorship_tag": "ABX9TyOZE2EIRJOm/VMg1aZQAfjj",
      "include_colab_link": true
    },
    "kernelspec": {
      "name": "python3",
      "display_name": "Python 3"
    },
    "language_info": {
      "name": "python"
    }
  },
  "cells": [
    {
      "cell_type": "markdown",
      "metadata": {
        "id": "view-in-github",
        "colab_type": "text"
      },
      "source": [
        "<a href=\"https://colab.research.google.com/github/PrinceDaveIgnacio/58013_LINEAR_ALGEBRA/blob/main/Python_Exercise_4.ipynb\" target=\"_parent\"><img src=\"https://colab.research.google.com/assets/colab-badge.svg\" alt=\"Open In Colab\"/></a>"
      ]
    },
    {
      "cell_type": "markdown",
      "source": [
        "# **Coding Activity**"
      ],
      "metadata": {
        "id": "lJ6N5Zno_H-e"
      }
    },
    {
      "cell_type": "code",
      "execution_count": null,
      "metadata": {
        "id": "LvUbyoCwoR7f"
      },
      "outputs": [],
      "source": [
        "import numpy as np\n",
        "\n",
        "\n",
        "A = np.array([[-0.4],[4.3],[-0.6]])\n",
        "B = np.array([0,20,21])\n",
        "C = np.array([-0.2, 1, -1.5])"
      ]
    },
    {
      "cell_type": "code",
      "source": [
        "A"
      ],
      "metadata": {
        "colab": {
          "base_uri": "https://localhost:8080/"
        },
        "id": "eZowVNG1UGiF",
        "outputId": "8522ed8e-f8d3-40ed-a0de-951bf757a318"
      },
      "execution_count": null,
      "outputs": [
        {
          "output_type": "execute_result",
          "data": {
            "text/plain": [
              "array([[-0.4],\n",
              "       [ 4.3],\n",
              "       [-0.6]])"
            ]
          },
          "metadata": {},
          "execution_count": 9
        }
      ]
    },
    {
      "cell_type": "code",
      "source": [
        "B"
      ],
      "metadata": {
        "colab": {
          "base_uri": "https://localhost:8080/"
        },
        "id": "OVJ3WZldbjv3",
        "outputId": "dda2fd21-9aeb-4d57-f288-d62ac5823582"
      },
      "execution_count": null,
      "outputs": [
        {
          "output_type": "execute_result",
          "data": {
            "text/plain": [
              "array([-0.2, 21. ])"
            ]
          },
          "metadata": {},
          "execution_count": 10
        }
      ]
    },
    {
      "cell_type": "code",
      "source": [
        "C"
      ],
      "metadata": {
        "colab": {
          "base_uri": "https://localhost:8080/"
        },
        "id": "Omckq5uNbk0q",
        "outputId": "cd8c5d19-b399-4310-93ea-5d62d7d3d354"
      },
      "execution_count": null,
      "outputs": [
        {
          "output_type": "execute_result",
          "data": {
            "text/plain": [
              "array([-0.2,  1. , -1.5])"
            ]
          },
          "metadata": {},
          "execution_count": 11
        }
      ]
    },
    {
      "cell_type": "markdown",
      "source": [
        "# **Vector Operation**"
      ],
      "metadata": {
        "id": "YE4xDHDAg50x"
      }
    },
    {
      "cell_type": "code",
      "source": [
        "#individual vector sum\n",
        "\n",
        "ec_sum1 = np.sum(A)\n",
        "vec_sum2 = np.sum(B)\n",
        "vec_sum3 = np.sum(C)\n",
        "\n",
        "print(vec_sum1)\n",
        "print(vec_sum2)\n",
        "print(vec_sum3)"
      ],
      "metadata": {
        "colab": {
          "base_uri": "https://localhost:8080/"
        },
        "id": "A45zFcpBbzI_",
        "outputId": "46424143-4a6d-4c3c-f348-bae1f1739187"
      },
      "execution_count": null,
      "outputs": [
        {
          "output_type": "stream",
          "name": "stdout",
          "text": [
            "3.3\n",
            "41\n",
            "-0.7\n"
          ]
        }
      ]
    },
    {
      "cell_type": "markdown",
      "source": [
        "# **Scalar Multiplication**"
      ],
      "metadata": {
        "id": "GLa-DycBkYK7"
      }
    },
    {
      "cell_type": "code",
      "source": [
        "sca_mul1 = np.multiply(A,B)\n",
        "sca_mul2 = np.multiply(A,C)\n",
        "sca_mul3 = np.multiply(C,B)\n",
        "\n",
        "print(\" A x B \\n\"  )\n",
        "print(sca_mul1)\n",
        "print(\"\\n\")\n",
        "print(\" A x C \\n\"  )\n",
        "print(sca_mul2)\n",
        "print(\"\\n\")\n",
        "print(\" C x B \\n\"  )\n",
        "print(sca_mul3)"
      ],
      "metadata": {
        "colab": {
          "base_uri": "https://localhost:8080/"
        },
        "id": "EbAm1f7mkSp0",
        "outputId": "58c281a5-b00e-4aab-d773-849b48eb8d2d"
      },
      "execution_count": null,
      "outputs": [
        {
          "output_type": "stream",
          "name": "stdout",
          "text": [
            " A x B \n",
            "\n",
            "[[ -0.   -8.   -8.4]\n",
            " [  0.   86.   90.3]\n",
            " [ -0.  -12.  -12.6]]\n",
            "\n",
            "\n",
            " A x C \n",
            "\n",
            "[[ 0.08 -0.4   0.6 ]\n",
            " [-0.86  4.3  -6.45]\n",
            " [ 0.12 -0.6   0.9 ]]\n",
            "\n",
            "\n",
            " C x B \n",
            "\n",
            "[ -0.   20.  -31.5]\n"
          ]
        }
      ]
    },
    {
      "cell_type": "markdown",
      "source": [
        "# **Vector Subtraction**"
      ],
      "metadata": {
        "id": "OCFy50WPmT70"
      }
    },
    {
      "cell_type": "code",
      "source": [
        "vec_sub1 = np.subtract(A,B)\n",
        "vec_sub2 = np.subtract(A,C)\n",
        "vec_sub3 = np.subtract(C,B)\n",
        "\n",
        "print(\" A - B \\n\"  )\n",
        "print(vec_sub1)\n",
        "print(\"\\n\")\n",
        "print(\" A - C \\n\"  )\n",
        "print(vec_sub1)\n",
        "print(\"\\n\")\n",
        "print(\" C - B \\n\"  )\n",
        "print(vec_sub3)"
      ],
      "metadata": {
        "colab": {
          "base_uri": "https://localhost:8080/"
        },
        "id": "pzJNBCFbmO7d",
        "outputId": "d37eec48-2aa0-44c2-be4d-8739ad1c8c0c"
      },
      "execution_count": null,
      "outputs": [
        {
          "output_type": "stream",
          "name": "stdout",
          "text": [
            " A - B \n",
            "\n",
            "[[ -0.4 -20.4 -21.4]\n",
            " [  4.3 -15.7 -16.7]\n",
            " [ -0.6 -20.6 -21.6]]\n",
            "\n",
            "\n",
            " A - C \n",
            "\n",
            "[[ -0.4 -20.4 -21.4]\n",
            " [  4.3 -15.7 -16.7]\n",
            " [ -0.6 -20.6 -21.6]]\n",
            "\n",
            "\n",
            " C - B \n",
            "\n",
            "[ -0.2 -19.  -22.5]\n"
          ]
        }
      ]
    },
    {
      "cell_type": "markdown",
      "source": [
        "# **Dot product**"
      ],
      "metadata": {
        "id": "c_lwCb_AsW-v"
      }
    },
    {
      "cell_type": "code",
      "source": [
        "val3 = np.dot(C,B)\n",
        "print(val3)"
      ],
      "metadata": {
        "colab": {
          "base_uri": "https://localhost:8080/"
        },
        "id": "B2-hkKMhsVoI",
        "outputId": "2d7bbeff-0a78-4008-be90-f6d35159ce3d"
      },
      "execution_count": null,
      "outputs": [
        {
          "output_type": "stream",
          "name": "stdout",
          "text": [
            "-11.5\n"
          ]
        }
      ]
    }
  ]
}