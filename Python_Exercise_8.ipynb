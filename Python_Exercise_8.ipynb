{
  "nbformat": 4,
  "nbformat_minor": 0,
  "metadata": {
    "colab": {
      "provenance": [],
      "authorship_tag": "ABX9TyNJewLCefAjkGn1GM3DxwQB",
      "include_colab_link": true
    },
    "kernelspec": {
      "name": "python3",
      "display_name": "Python 3"
    },
    "language_info": {
      "name": "python"
    }
  },
  "cells": [
    {
      "cell_type": "markdown",
      "metadata": {
        "id": "view-in-github",
        "colab_type": "text"
      },
      "source": [
        "<a href=\"https://colab.research.google.com/github/PrinceDaveIgnacio/58013_LINEAR_ALGEBRA/blob/main/Python_Exercise_8.ipynb\" target=\"_parent\"><img src=\"https://colab.research.google.com/assets/colab-badge.svg\" alt=\"Open In Colab\"/></a>"
      ]
    },
    {
      "cell_type": "markdown",
      "source": [
        "# **Inverse** -\n",
        ">Inverse of a matrix is a reciprocal of the matrix\n",
        "\n",
        "\n",
        "\n"
      ],
      "metadata": {
        "id": "wTVyrkZ3Cg4w"
      }
    },
    {
      "cell_type": "code",
      "execution_count": null,
      "metadata": {
        "id": "rwtdIPC_CND6"
      },
      "outputs": [],
      "source": [
        "import numpy as np\n",
        "\n",
        "A = np.array([[1,2,3],[4,5,6],[7,8,9]])\n",
        "A1 = np.array([[1,2],[4,7]])"
      ]
    },
    {
      "cell_type": "code",
      "source": [
        "print(A)"
      ],
      "metadata": {
        "colab": {
          "base_uri": "https://localhost:8080/"
        },
        "id": "q4_-mQ9rDK9w",
        "outputId": "a4b66250-bf94-4306-9abf-70e01795a4e9"
      },
      "execution_count": null,
      "outputs": [
        {
          "output_type": "stream",
          "name": "stdout",
          "text": [
            "[[1 2 3]\n",
            " [4 5 6]\n",
            " [7 8 9]]\n"
          ]
        }
      ]
    },
    {
      "cell_type": "code",
      "source": [
        "deter = np.linalg.det(A)\n",
        "\n",
        "print(deter)"
      ],
      "metadata": {
        "colab": {
          "base_uri": "https://localhost:8080/"
        },
        "id": "NZMBiSRoJoqW",
        "outputId": "974057c4-8e1d-40b0-a0fa-c3a5dfe37d3a"
      },
      "execution_count": null,
      "outputs": [
        {
          "output_type": "stream",
          "name": "stdout",
          "text": [
            "0.0\n"
          ]
        }
      ]
    },
    {
      "cell_type": "code",
      "source": [
        "try:\n",
        "  B = np.linalg.inv(A)\n",
        "\n",
        "  print(\"Inverse of Matrix A: \")\n",
        "  print(B)\n",
        "\n",
        "except np.linalg.LinAlgError:\n",
        "    print(\"Matrix A is singular and doesn't have an inverse.\")"
      ],
      "metadata": {
        "colab": {
          "base_uri": "https://localhost:8080/"
        },
        "id": "XU7HDKk8MDWW",
        "outputId": "2b296e0e-3a2c-49ff-eb49-b37e2f50a8e9"
      },
      "execution_count": null,
      "outputs": [
        {
          "output_type": "stream",
          "name": "stdout",
          "text": [
            "Matrix A is singular and doesn't have an inverse.\n"
          ]
        }
      ]
    },
    {
      "cell_type": "markdown",
      "source": [
        "**Therefore** *Not all matrices have inverse properties, if the determinant of a matrix reaches zero value,then the inverse function of NumpPy will not work*"
      ],
      "metadata": {
        "id": "H6cmEM6tKzLJ"
      }
    },
    {
      "cell_type": "code",
      "source": [
        "A1 = np.array([[1,2],[4,7]])\n",
        "invA = np.linalg.inv(A1)\n",
        "print(invA)\n"
      ],
      "metadata": {
        "colab": {
          "base_uri": "https://localhost:8080/"
        },
        "id": "FcxCr3azMtCJ",
        "outputId": "353f8b33-dcc1-47a8-b4a1-753f1add3c13"
      },
      "execution_count": null,
      "outputs": [
        {
          "output_type": "stream",
          "name": "stdout",
          "text": [
            "[[-7.  2.]\n",
            " [ 4. -1.]]\n"
          ]
        }
      ]
    },
    {
      "cell_type": "markdown",
      "source": [
        "# **Transpose of a Matrix**"
      ],
      "metadata": {
        "id": "_WtgKYSmOLsy"
      }
    },
    {
      "cell_type": "code",
      "source": [
        "#Python Program to Transpose a 4x4 Matrix\n",
        "\n",
        "A= ([[6,1,1,3],[4,-2,5,1],[2,8,7,6],[3,1,9,7]])\n",
        "A= np.array([[6,1,1,3],[4,-2,5,1],[2,8,7,6],[3,1,9,7]])\n",
        "\n",
        "\n",
        "print(A)\n",
        "print(\"\\n\")\n",
        "\n",
        "B=(np.transpose(A))\n",
        "\n",
        "print(B)\n",
        "\n"
      ],
      "metadata": {
        "colab": {
          "base_uri": "https://localhost:8080/"
        },
        "id": "3svqkfplOYsO",
        "outputId": "25d65345-eee6-4e33-bad8-94f24fa784c8"
      },
      "execution_count": null,
      "outputs": [
        {
          "output_type": "stream",
          "name": "stdout",
          "text": [
            "[[ 6  1  1  3]\n",
            " [ 4 -2  5  1]\n",
            " [ 2  8  7  6]\n",
            " [ 3  1  9  7]]\n",
            "\n",
            "\n",
            "[[ 6  4  2  3]\n",
            " [ 1 -2  8  1]\n",
            " [ 1  5  7  9]\n",
            " [ 3  1  6  7]]\n"
          ]
        }
      ]
    }
  ]
}