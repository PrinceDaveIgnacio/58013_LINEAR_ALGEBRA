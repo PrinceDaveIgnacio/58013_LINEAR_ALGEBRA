{
  "nbformat": 4,
  "nbformat_minor": 0,
  "metadata": {
    "colab": {
      "provenance": [],
      "authorship_tag": "ABX9TyOe7YKcU08OFlYrVPZ6z5MI",
      "include_colab_link": true
    },
    "kernelspec": {
      "name": "python3",
      "display_name": "Python 3"
    },
    "language_info": {
      "name": "python"
    }
  },
  "cells": [
    {
      "cell_type": "markdown",
      "metadata": {
        "id": "view-in-github",
        "colab_type": "text"
      },
      "source": [
        "<a href=\"https://colab.research.google.com/github/PrinceDaveIgnacio/58013_LINEAR_ALGEBRA/blob/main/Python_Fundamentals.ipynb\" target=\"_parent\"><img src=\"https://colab.research.google.com/assets/colab-badge.svg\" alt=\"Open In Colab\"/></a>"
      ]
    },
    {
      "cell_type": "markdown",
      "source": [
        "A. Variables and Data Types"
      ],
      "metadata": {
        "id": "xt02jdcdpNou"
      }
    },
    {
      "cell_type": "code",
      "source": [
        "\n",
        "x = 1\n",
        "a,b = 0, -1\n",
        "\n",
        "print(type(x))\n",
        "\n",
        "y = 1.0\n",
        "print(type(y))\n",
        "\n",
        "x = float(x)\n",
        "print(type(x))\n",
        "\n",
        "s,t,u = \"0\", '1', 'one'\n",
        "print(type(s))\n",
        "\n",
        "s_int = int(s)\n",
        "print(s_int)"
      ],
      "metadata": {
        "id": "RqdYv3_npOgO"
      },
      "execution_count": null,
      "outputs": []
    },
    {
      "cell_type": "markdown",
      "source": [
        "B. Arithmetic Operation"
      ],
      "metadata": {
        "id": "W_09BhucpRDW"
      }
    },
    {
      "cell_type": "code",
      "source": [
        "\n",
        "a,b,c,d = 2.0, -0.5, 0, -32\n",
        "\n",
        "### Addition\n",
        "S = a+b\n",
        "print(S)\n",
        "\n",
        "### Subtraction\n",
        "D = b-d\n",
        "print(D)\n",
        "\n",
        "### Multiplication\n",
        "P = a*d\n",
        "print(P)\n",
        "\n",
        "### Division\n",
        "Q = c/a\n",
        "print(Q)\n",
        "\n",
        "### Exponentiation\n",
        "E = a**b\n",
        "print(E)\n",
        "\n",
        "### Modulo\n",
        "mod = d%a\n",
        "print(mod)"
      ],
      "metadata": {
        "id": "s-u4ZJyIpUSd"
      },
      "execution_count": null,
      "outputs": []
    },
    {
      "cell_type": "markdown",
      "source": [
        "C.Assignment Operator"
      ],
      "metadata": {
        "id": "rtSkNuSPpXpP"
      }
    },
    {
      "cell_type": "code",
      "source": [
        "\n",
        "G, H, J, K = 0, 100, 2, 2\n",
        "a, b = 50, 50\n",
        "G += a\n",
        "print(G)\n",
        "\n",
        "H -= d\n",
        "print(H)\n",
        "\n",
        "J *= 2\n",
        "print(J)\n",
        "\n",
        "K **= 2\n",
        "print(K)"
      ],
      "metadata": {
        "id": "CXpYr2GopXRv"
      },
      "execution_count": null,
      "outputs": []
    },
    {
      "cell_type": "markdown",
      "source": [
        "D. Comparators"
      ],
      "metadata": {
        "id": "jujPD8ZapbZo"
      }
    },
    {
      "cell_type": "code",
      "source": [
        "\n",
        "res_1, res_2, res_3 = 1 , 2.0, \"1\"\n",
        "true_val = 1.0\n",
        "\n",
        "## Equality\n",
        "val1 = res_1 == true_val\n",
        "print(val1)\n",
        "\n",
        "## Non-equality\n",
        "val2 = res_2 != true_val\n",
        "print(val2)\n",
        "\n",
        "## Inequality\n",
        "t1 = res_1 > res_2\n",
        "t2 = res_1 < res_2/2\n",
        "t3 = res_1 >= res_2/2\n",
        "t4 = res_1 <= res_2\n",
        "\n",
        "print(\"\\n\",t1,\"\\n\",t2,\"\\n\", t3,\n",
        "\"\\n\", t4\n",
        "\n",
        ")"
      ],
      "metadata": {
        "id": "Kc7_G3lzpdmX"
      },
      "execution_count": null,
      "outputs": []
    },
    {
      "cell_type": "markdown",
      "source": [
        "E. Logical"
      ],
      "metadata": {
        "id": "tUBS-4Hvphsj"
      }
    },
    {
      "cell_type": "code",
      "source": [
        "\n",
        "res_1 == true_val\n",
        "\n",
        "rslt_1 = res_1 is true_val\n",
        "\n",
        "print(rslt_1)\n",
        "\n",
        "rslt_2 = res_1 is not true_val\n",
        "\n",
        "print(rslt_2)\n",
        "\n",
        "p, q = True, False\n",
        "conj = p and q\n",
        "print(conj)\n",
        "\n",
        "p, q = True, False\n",
        "disj = p or q\n",
        "print(disj)\n",
        "\n",
        "\n",
        "p, q = True, False\n",
        "nand = not(p and q)\n",
        "print(nand)\n",
        "\n",
        "p, q = True, False\n",
        "xor = (not p and q) or (p and not q)\n",
        "print(xor)"
      ],
      "metadata": {
        "id": "xOgX1bD3pmE4"
      },
      "execution_count": null,
      "outputs": []
    },
    {
      "cell_type": "markdown",
      "source": [
        "F. Input and Output Operations"
      ],
      "metadata": {
        "id": "p2WFbu-AppiY"
      }
    },
    {
      "cell_type": "code",
      "source": [
        "\n",
        "print(\"Hello World\")\n",
        "\n",
        "cnt = 1\n",
        "\n",
        "string = \"Hello World\"\n",
        "print(string, \", Current run count is:\", cnt)\n",
        "cnt += 1\n",
        "\n",
        "print(f\"{string}, Current count is: {cnt}\")\n",
        "\n",
        "sem_grade = 82.243564657461234\n",
        "name = \"\"\n",
        "print(\"Hello {}, your semestral grade is: {}\".format(name, sem_grade))\n",
        "\n",
        "w_pg, w_mg, w_fg = 0.3, 0.3, 0.4\n",
        "print(\"The weights of your semestral grades are:\\\n",
        "\\n\\t{:.2%} for Prelims\\\n",
        "\\n\\t{:.2%} for Midterms, and\\\n",
        "\\n\\t{:.2%} for Finals.\".format(w_pg, w_mg, w_fg))\n",
        "\n",
        "x = input(\"enter a number: \")\n",
        "x\n",
        "\n",
        "name = input(\"Kimi no nawa: \")\n",
        "pg = input(\"Enter prelim grade: \")\n",
        "mg = input(\"Enter midterm grade: \")\n",
        "fg = input(\"Enter finals grade: \")\n",
        "sem_grade = None\n",
        "print(\"Hello {}, your semestral grade is: {}\".format(name, sem_grade))"
      ],
      "metadata": {
        "id": "7Kqq3g2-ppUA"
      },
      "execution_count": null,
      "outputs": []
    },
    {
      "cell_type": "markdown",
      "source": [
        "H. Looping System"
      ],
      "metadata": {
        "id": "lMddWqg8puS5"
      }
    },
    {
      "cell_type": "code",
      "source": [
        "\n",
        "## while loops\n",
        "i, j = 0, 10\n",
        "while(i<=j):\n",
        "    print(f\"{i}\\t|\\t{j}\")\n",
        "    i+=1\n",
        "\n",
        "# for(int i=0; i<10; i++){\n",
        "# printf(i)\n",
        "# }\n",
        "\n",
        "i=0\n",
        "for i in range(10):\n",
        "    print(i)"
      ],
      "metadata": {
        "id": "mC7xfayHpuYg"
      },
      "execution_count": null,
      "outputs": []
    },
    {
      "cell_type": "markdown",
      "source": [
        "H. Flow Control"
      ],
      "metadata": {
        "id": "8jyZo9Uepz4S"
      }
    },
    {
      "cell_type": "code",
      "source": [
        "\n",
        "###Condition Statements\n",
        "numeral1, numeral2 = 12, 12\n",
        "if(numeral1 == numeral2):\n",
        "     print(\"Yey\")\n",
        "elif(numeral1>numeral2):\n",
        "     print(\"Hoho\")\n",
        "else:\n",
        "     print(\"Aww\")\n",
        "print(\"Hip hip\")"
      ],
      "metadata": {
        "id": "Li_O0QQ8pzuA"
      },
      "execution_count": null,
      "outputs": []
    },
    {
      "cell_type": "markdown",
      "source": [
        "I. Function"
      ],
      "metadata": {
        "id": "-8a-SIrdqBRI"
      }
    },
    {
      "cell_type": "code",
      "source": [
        "# void DeleteUser(int userid){\n",
        "#     delete(userid);\n",
        "# }\n",
        "def delete_user (userid):\n",
        "     print(\"Successfully deleted user: {}\".format(userid))\n",
        "def delete_all_users ():\n",
        "     print(\"Successfully deleted all users\")\n",
        "userid = \"dave ignacio\"\n",
        "delete_user(userid)\n",
        "delete_all_users()"
      ],
      "metadata": {
        "id": "r-4WOtUiqGKn"
      },
      "execution_count": null,
      "outputs": []
    }
  ]
}