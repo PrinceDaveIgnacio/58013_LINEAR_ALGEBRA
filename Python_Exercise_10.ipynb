{
  "nbformat": 4,
  "nbformat_minor": 0,
  "metadata": {
    "colab": {
      "provenance": [],
      "authorship_tag": "ABX9TyM4pTiEJuztzp3NEIJJk85T",
      "include_colab_link": true
    },
    "kernelspec": {
      "name": "python3",
      "display_name": "Python 3"
    },
    "language_info": {
      "name": "python"
    }
  },
  "cells": [
    {
      "cell_type": "markdown",
      "metadata": {
        "id": "view-in-github",
        "colab_type": "text"
      },
      "source": [
        "<a href=\"https://colab.research.google.com/github/PrinceDaveIgnacio/58013_LINEAR_ALGEBRA/blob/main/Python_Exercise_10.ipynb\" target=\"_parent\"><img src=\"https://colab.research.google.com/assets/colab-badge.svg\" alt=\"Open In Colab\"/></a>"
      ]
    },
    {
      "cell_type": "markdown",
      "source": [
        "# **Systems of Linear Equation**"
      ],
      "metadata": {
        "id": "1d8wr0L7YDkH"
      }
    },
    {
      "cell_type": "code",
      "execution_count": 2,
      "metadata": {
        "colab": {
          "base_uri": "https://localhost:8080/"
        },
        "id": "39MgCMdFX-lx",
        "outputId": "7f035934-cb1b-4d94-df5e-0aab0a8f1d90"
      },
      "outputs": [
        {
          "output_type": "stream",
          "name": "stdout",
          "text": [
            "[[ 1.  1.  1.]\n",
            " [ 3. -2. -1.]\n",
            " [-1.  4.  2.]]\n",
            "(3, 3)\n",
            "[[ 1.]\n",
            " [ 4.]\n",
            " [-3.]]\n",
            "(3, 1)\n"
          ]
        }
      ],
      "source": [
        "import numpy as np\n",
        "\n",
        "\n",
        "\n",
        "\n",
        "X = np.array([\n",
        "    [1,1,1],\n",
        "    [3,-2,-1],\n",
        "    [-1,4,2]\n",
        "], dtype=float)\n",
        "Y = np.array([\n",
        "    [1],\n",
        "    [4],\n",
        "    [-3]\n",
        "],dtype=float)\n",
        "\n",
        "\n",
        "\n",
        "print(X)\n",
        "print(X.shape)\n",
        "print(Y)\n",
        "print(Y.shape)\n"
      ]
    },
    {
      "cell_type": "markdown",
      "source": [
        "**Coding** **Activity** **10**"
      ],
      "metadata": {
        "id": "sJvl-wj6sL4x"
      }
    },
    {
      "cell_type": "code",
      "source": [
        "#bakeryshop\n",
        "#purchasing supply\n",
        "#flour Yeast Egg\n",
        "#Every month purchase\n",
        "#30 sacks of flour, 10 packs of yeast, 120 eggs for 12,500 pesos\n",
        "purch_all= np.array([\n",
        "      [30,10,120],\n",
        "      [40,20,200],\n",
        "      [50,40,360],\n",
        "      ])\n",
        "\n",
        "\n",
        "costpurch_all = np.array([\n",
        "    [12000], [18000],[25700]\n",
        "])\n",
        "\n",
        "#PROMO FOR EVERY 2 MONTHS OF PURCHASING\n",
        "#40 sacks of flour, 20 packs of yeast, and 200 eggs for 18000\n",
        "\n",
        "#PROMO FOR EVERY 3 MONTHS OF PURCHASING\n",
        "#50 sacks of flour, 40 packs of yeast, and 360 eggs for 25700\n",
        "\n",
        "\n",
        "cost_eff = np.linalg.solve(purch_all,costpurch_all)\n",
        "\n",
        "print(cost_eff)\n",
        "print(\"The price of the promo per month is not numerically cost-efficient\\ndue to not reaching the lower value per of raw material prices each promo and month \")\n"
      ],
      "metadata": {
        "colab": {
          "base_uri": "https://localhost:8080/"
        },
        "id": "DU5nX2FgsKmU",
        "outputId": "0edb922f-3dac-4aab-d1b4-1ee130e97e31"
      },
      "execution_count": 12,
      "outputs": [
        {
          "output_type": "stream",
          "name": "stdout",
          "text": [
            "[[430.]\n",
            " [690.]\n",
            " [-65.]]\n",
            "The price of the promo per month is not numerically cost-efficient\n",
            "due to not reaching the lower value per of raw material prices each promo and month \n"
          ]
        }
      ]
    },
    {
      "cell_type": "code",
      "source": [
        "mont_1 = ([30,10,120\n",
        "\n",
        "])\n",
        "cost1 = 12500\n",
        "\n",
        "costperparts1 = np.divide(mont_1,cost1)\n",
        "\n",
        "print(costperparts1)"
      ],
      "metadata": {
        "colab": {
          "base_uri": "https://localhost:8080/"
        },
        "id": "wX_frIL119PD",
        "outputId": "69a6694b-27f9-4e88-dac3-0dce356dcf3a"
      },
      "execution_count": 20,
      "outputs": [
        {
          "output_type": "stream",
          "name": "stdout",
          "text": [
            "[0.0024 0.0008 0.0096]\n"
          ]
        }
      ]
    },
    {
      "cell_type": "code",
      "source": [
        "mont_1 = ([30,10,120\n",
        "\n",
        "])\n",
        "cost1 = 12500\n",
        "\n",
        "costperparts1 = np.divide(mont_1,cost1)\n",
        "\n",
        "print(costperparts1)"
      ],
      "metadata": {
        "colab": {
          "base_uri": "https://localhost:8080/"
        },
        "id": "G1kIq-WbIoB2",
        "outputId": "cfb47d98-9a7c-45f7-f2fc-e6230813ab95"
      },
      "execution_count": 3,
      "outputs": [
        {
          "output_type": "stream",
          "name": "stdout",
          "text": [
            "[0.0024 0.0008 0.0096]\n"
          ]
        }
      ]
    }
  ]
}