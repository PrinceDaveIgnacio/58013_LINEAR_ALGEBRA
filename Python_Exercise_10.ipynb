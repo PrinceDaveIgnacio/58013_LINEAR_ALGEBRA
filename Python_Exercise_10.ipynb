{
  "nbformat": 4,
  "nbformat_minor": 0,
  "metadata": {
    "colab": {
      "provenance": [],
      "authorship_tag": "ABX9TyNn73wHKOUkvDWbp3Z3Nclm",
      "include_colab_link": true
    },
    "kernelspec": {
      "name": "python3",
      "display_name": "Python 3"
    },
    "language_info": {
      "name": "python"
    }
  },
  "cells": [
    {
      "cell_type": "markdown",
      "metadata": {
        "id": "view-in-github",
        "colab_type": "text"
      },
      "source": [
        "<a href=\"https://colab.research.google.com/github/PrinceDaveIgnacio/58013_LINEAR_ALGEBRA/blob/main/Python_Exercise_10.ipynb\" target=\"_parent\"><img src=\"https://colab.research.google.com/assets/colab-badge.svg\" alt=\"Open In Colab\"/></a>"
      ]
    },
    {
      "cell_type": "markdown",
      "source": [
        "# **Systems of Linear Equation**"
      ],
      "metadata": {
        "id": "1d8wr0L7YDkH"
      }
    },
    {
      "cell_type": "code",
      "execution_count": 1,
      "metadata": {
        "colab": {
          "base_uri": "https://localhost:8080/"
        },
        "id": "39MgCMdFX-lx",
        "outputId": "cde2757c-633b-4c3a-b354-3225a9ad63ae"
      },
      "outputs": [
        {
          "output_type": "stream",
          "name": "stdout",
          "text": [
            "[[ 1.  1.  1.]\n",
            " [ 3. -2. -1.]\n",
            " [-1.  4.  2.]]\n",
            "(3, 3)\n",
            "[[ 1.]\n",
            " [ 4.]\n",
            " [-3.]]\n",
            "(3, 1)\n"
          ]
        }
      ],
      "source": [
        "import numpy as np\n",
        "\n",
        "\n",
        "\n",
        "\n",
        "X = np.array([\n",
        "    [1,1,1],\n",
        "    [3,-2,-1],\n",
        "    [-1,4,2]\n",
        "], dtype=float)\n",
        "Y = np.array([\n",
        "    [1],\n",
        "    [4],\n",
        "    [-3]\n",
        "],dtype=float)\n",
        "\n",
        "\n",
        "\n",
        "print(X)\n",
        "print(X.shape)\n",
        "print(Y)\n",
        "print(Y.shape)\n"
      ]
    },
    {
      "cell_type": "markdown",
      "source": [
        "**Coding** **Activity** **10**"
      ],
      "metadata": {
        "id": "sJvl-wj6sL4x"
      }
    },
    {
      "cell_type": "code",
      "source": [
        "#bakeryshop\n",
        "#purchasing supply\n",
        "#flour Yeast Egg\n",
        "#Every month purchase\n",
        "#30 sacks of flour, 10 packs of yeast, 120 eggs for 12,500 pesos\n",
        "purch_all= np.array([\n",
        "      [30,10,120],\n",
        "      [40,20,200],\n",
        "      [50,40,360],\n",
        "      ])\n",
        "\n",
        "\n",
        "costpurch_all = np.array([\n",
        "    [12000], [18000],[25700]\n",
        "])\n",
        "\n",
        "#PROMO FOR EVERY 2 MONTHS OF PURCHASING\n",
        "#40 sacks of flour, 20 packs of yeast, and 200 eggs for 18000\n",
        "\n",
        "#PROMO FOR EVERY 3 MONTHS OF PURCHASING\n",
        "#50 sacks of flour, 40 packs of yeast, and 360 eggs for 25700\n",
        "\n",
        "\n",
        "cost_eff = np.linalg.solve(purch_all,costpurch_all)\n",
        "\n",
        "print(cost_eff)\n",
        "print()\n"
      ],
      "metadata": {
        "colab": {
          "base_uri": "https://localhost:8080/"
        },
        "id": "DU5nX2FgsKmU",
        "outputId": "2729c9fe-77a8-48c0-8caf-65247dee05b5"
      },
      "execution_count": 7,
      "outputs": [
        {
          "output_type": "stream",
          "name": "stdout",
          "text": [
            "[[430.]\n",
            " [690.]\n",
            " [-65.]]\n"
          ]
        }
      ]
    }
  ]
}