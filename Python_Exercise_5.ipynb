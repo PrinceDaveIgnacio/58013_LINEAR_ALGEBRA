{
  "nbformat": 4,
  "nbformat_minor": 0,
  "metadata": {
    "colab": {
      "provenance": [],
      "authorship_tag": "ABX9TyN4+gwQ1Y/NIKHK88rSg+cx",
      "include_colab_link": true
    },
    "kernelspec": {
      "name": "python3",
      "display_name": "Python 3"
    },
    "language_info": {
      "name": "python"
    }
  },
  "cells": [
    {
      "cell_type": "markdown",
      "metadata": {
        "id": "view-in-github",
        "colab_type": "text"
      },
      "source": [
        "<a href=\"https://colab.research.google.com/github/PrinceDaveIgnacio/58013_LINEAR_ALGEBRA/blob/main/Python_Exercise_5.ipynb\" target=\"_parent\"><img src=\"https://colab.research.google.com/assets/colab-badge.svg\" alt=\"Open In Colab\"/></a>"
      ]
    },
    {
      "cell_type": "markdown",
      "source": [
        "# **Scaling or Scalar Multiplication**"
      ],
      "metadata": {
        "id": "-pHYh5OW_5tP"
      }
    },
    {
      "cell_type": "code",
      "execution_count": null,
      "metadata": {
        "id": "HAzHdfGd_mhu"
      },
      "outputs": [],
      "source": [
        "import numpy as np\n",
        "\n",
        "# S = 5 * A\n",
        "\n",
        "A = np.array([1,5,8,9])\n",
        "\n",
        "S = 5 * A"
      ]
    },
    {
      "cell_type": "code",
      "source": [
        "print(S)"
      ],
      "metadata": {
        "colab": {
          "base_uri": "https://localhost:8080/"
        },
        "id": "ZXuobHmSAebH",
        "outputId": "0920affd-e0e9-4a75-e46b-cd6a6bb67599"
      },
      "execution_count": null,
      "outputs": [
        {
          "output_type": "stream",
          "name": "stdout",
          "text": [
            "[ 5 25 40 45]\n"
          ]
        }
      ]
    },
    {
      "cell_type": "code",
      "source": [
        "Snumpy = np.multiply(5,A)\n",
        "\n",
        "print(Snumpy)"
      ],
      "metadata": {
        "colab": {
          "base_uri": "https://localhost:8080/"
        },
        "id": "THFLX09lAj_v",
        "outputId": "49840899-1073-4558-d11a-0a381f80532e"
      },
      "execution_count": null,
      "outputs": [
        {
          "output_type": "stream",
          "name": "stdout",
          "text": [
            "[ 5 25 40 45]\n"
          ]
        }
      ]
    },
    {
      "cell_type": "markdown",
      "source": [
        "# **Dot Product**"
      ],
      "metadata": {
        "id": "1G2OOsIaBSl8"
      }
    },
    {
      "cell_type": "code",
      "source": [
        "a = [5, 10, 2]\n",
        "b = [2, 4, 3]\n",
        "dotproduct = np.dot(a,b)\n",
        "print('Dot product is:', dotproduct)\n"
      ],
      "metadata": {
        "colab": {
          "base_uri": "https://localhost:8080/"
        },
        "id": "k_ERXiIhBROS",
        "outputId": "a45a975f-d8aa-4e1f-da31-5ba5b7622bb0"
      },
      "execution_count": null,
      "outputs": [
        {
          "output_type": "stream",
          "name": "stdout",
          "text": [
            "Dot product is: 56\n"
          ]
        }
      ]
    },
    {
      "cell_type": "markdown",
      "source": [
        "# **Cross Product**"
      ],
      "metadata": {
        "id": "Xo2nSez-BhgZ"
      }
    },
    {
      "cell_type": "code",
      "source": [
        "p = np.array([4, 2])\n",
        "q = np.array([5, 6])\n",
        "product = np.cross(p,q)\n",
        "\n",
        "print(product)\n"
      ],
      "metadata": {
        "colab": {
          "base_uri": "https://localhost:8080/"
        },
        "id": "Ha_OUDnRBlYg",
        "outputId": "b6a2889d-cbe0-48bd-8826-070e72b6164d"
      },
      "execution_count": null,
      "outputs": [
        {
          "output_type": "stream",
          "name": "stdout",
          "text": [
            "14\n"
          ]
        }
      ]
    }
  ]
}