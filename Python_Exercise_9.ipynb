{
  "nbformat": 4,
  "nbformat_minor": 0,
  "metadata": {
    "colab": {
      "provenance": [],
      "authorship_tag": "ABX9TyOwFg8PyqmTcoCtnU8bvpX7",
      "include_colab_link": true
    },
    "kernelspec": {
      "name": "python3",
      "display_name": "Python 3"
    },
    "language_info": {
      "name": "python"
    }
  },
  "cells": [
    {
      "cell_type": "markdown",
      "metadata": {
        "id": "view-in-github",
        "colab_type": "text"
      },
      "source": [
        "<a href=\"https://colab.research.google.com/github/PrinceDaveIgnacio/58013_LINEAR_ALGEBRA/blob/main/Python_Exercise_9.ipynb\" target=\"_parent\"><img src=\"https://colab.research.google.com/assets/colab-badge.svg\" alt=\"Open In Colab\"/></a>"
      ]
    },
    {
      "cell_type": "markdown",
      "source": [
        "# **Matrix Algebra**"
      ],
      "metadata": {
        "id": "Df4RG3cqLO1D"
      }
    },
    {
      "cell_type": "code",
      "execution_count": 2,
      "metadata": {
        "id": "qNFw9UOg4ppH"
      },
      "outputs": [],
      "source": [
        "import numpy as np\n",
        "import matplotlib.pyplot as plt\n",
        "%matplotlib inline"
      ]
    },
    {
      "cell_type": "code",
      "source": [
        "A = np.array([\n",
        "    [1,4],\n",
        "    [0,3]\n",
        "])\n",
        "np.linalg.det(A)\n"
      ],
      "metadata": {
        "colab": {
          "base_uri": "https://localhost:8080/"
        },
        "id": "QcCvplmN5nw6",
        "outputId": "50c33e12-95fd-4020-f276-7d16e0beeff8"
      },
      "execution_count": null,
      "outputs": [
        {
          "output_type": "execute_result",
          "data": {
            "text/plain": [
              "3.0000000000000004"
            ]
          },
          "metadata": {},
          "execution_count": 4
        }
      ]
    },
    {
      "cell_type": "code",
      "source": [
        "B = np.array([\n",
        "    [1,3,5,6],\n",
        "    [0,3,1,3],\n",
        "    [3,1,8,2],\n",
        "    [5,2,6,8]\n",
        "])\n",
        "np.linalg.det(B)\n"
      ],
      "metadata": {
        "colab": {
          "base_uri": "https://localhost:8080/"
        },
        "id": "zL9mzZ685pXi",
        "outputId": "d911f14b-c4a4-4ebb-c19c-56b417bc60f3"
      },
      "execution_count": 6,
      "outputs": [
        {
          "output_type": "execute_result",
          "data": {
            "text/plain": [
              "-235.0000000000002"
            ]
          },
          "metadata": {},
          "execution_count": 6
        }
      ]
    },
    {
      "cell_type": "markdown",
      "source": [
        "**Conding Activity:** Code and implement the remaining 6 matrix multiplication properties"
      ],
      "metadata": {
        "id": "dkQZ524GMj_k"
      }
    },
    {
      "cell_type": "code",
      "source": [
        "#MATRIX NO.1\n",
        "\n",
        "#(5,5) Dimension\n",
        "\n",
        "D = np.array([\n",
        "    [4,4,1,6,8],\n",
        "    [5,6,1,3,4],\n",
        "    [2,8,2,2,8],\n",
        "    [9,2,6,8,7],\n",
        "    [9,4,6,8,7]\n",
        "])\n",
        "np.linalg.det(D)"
      ],
      "metadata": {
        "colab": {
          "base_uri": "https://localhost:8080/"
        },
        "id": "eFOxtu0FLWMx",
        "outputId": "4ca99dff-7c35-48c9-f62f-49d4049551b3"
      },
      "execution_count": 10,
      "outputs": [
        {
          "output_type": "execute_result",
          "data": {
            "text/plain": [
              "984.0000000000016"
            ]
          },
          "metadata": {},
          "execution_count": 10
        }
      ]
    },
    {
      "cell_type": "code",
      "source": [
        "#MATRIX NO.2\n",
        "\n",
        "# (6,6) Dimension\n",
        "\n",
        "C = np.array([\n",
        "    [1,4,1,6,8,7],\n",
        "    [5,3,1,3,1,3],\n",
        "    [2,8,2,2,2,2],\n",
        "    [3,2,6,8,1,4],\n",
        "    [9,7,6,3,7,1],\n",
        "    [2,8,2,2,8,2]\n",
        "])\n",
        "np.linalg.det(C)\n"
      ],
      "metadata": {
        "colab": {
          "base_uri": "https://localhost:8080/"
        },
        "id": "2c2UpQvQS3qO",
        "outputId": "bd2203ed-f70d-49f2-bc34-d20b49624bb8"
      },
      "execution_count": 17,
      "outputs": [
        {
          "output_type": "execute_result",
          "data": {
            "text/plain": [
              "12324.0"
            ]
          },
          "metadata": {},
          "execution_count": 17
        }
      ]
    },
    {
      "cell_type": "code",
      "source": [
        "#MATRIX NO.3\n",
        "\n",
        "# (7,7) Dimension\n",
        "\n",
        "D = np.array([\n",
        "    [1,4,1,6,8,7,1],\n",
        "    [5,3,1,3,1,3,1],\n",
        "    [2,8,2,2,2,2,6],\n",
        "    [3,2,6,8,1,4,2],\n",
        "    [9,7,6,3,7,1,3],\n",
        "    [2,8,2,2,8,2,3],\n",
        "    [3,5,1,2,3,2,4]\n",
        "])\n",
        "np.linalg.det(D)\n"
      ],
      "metadata": {
        "colab": {
          "base_uri": "https://localhost:8080/"
        },
        "id": "59ZVV0e-YfcO",
        "outputId": "ae41ff5a-0d3e-4724-8e44-a2fe13a1e82a"
      },
      "execution_count": 19,
      "outputs": [
        {
          "output_type": "execute_result",
          "data": {
            "text/plain": [
              "25596.000000000015"
            ]
          },
          "metadata": {},
          "execution_count": 19
        }
      ]
    },
    {
      "cell_type": "code",
      "source": [
        "#MATRIX NO.4\n",
        "\n",
        "# (8,8) Dimension\n",
        "\n",
        "D = np.array([\n",
        "    [1,4,1,6,8,7,1,3],\n",
        "    [5,3,1,3,1,3,1,3],\n",
        "    [2,8,2,2,2,2,6,2],\n",
        "    [3,2,6,8,1,4,2,7],\n",
        "    [9,7,6,3,7,1,3,8],\n",
        "    [2,8,2,2,8,2,3,1],\n",
        "    [3,5,1,2,3,2,4,6],\n",
        "    [8,2,3,1,1,4,2,7]\n",
        "])\n",
        "np.linalg.det(D)\n"
      ],
      "metadata": {
        "colab": {
          "base_uri": "https://localhost:8080/"
        },
        "id": "lbd7GsoUZTbI",
        "outputId": "a528b237-eeb6-4db1-9c9e-638c17eae901"
      },
      "execution_count": 20,
      "outputs": [
        {
          "output_type": "execute_result",
          "data": {
            "text/plain": [
              "130128.0"
            ]
          },
          "metadata": {},
          "execution_count": 20
        }
      ]
    },
    {
      "cell_type": "code",
      "source": [
        "#MATRIX NO.5\n",
        "\n",
        "# (9,9) Dimension\n",
        "\n",
        "D = np.array([\n",
        "    [1,4,1,6,8,7,1,3,8],\n",
        "    [5,3,1,3,1,3,1,3,6],\n",
        "    [2,8,2,2,2,2,6,2,7],\n",
        "    [3,2,6,8,1,4,2,7,2],\n",
        "    [9,7,6,3,7,1,3,8,1],\n",
        "    [2,8,2,2,8,2,3,1,5],\n",
        "    [3,5,1,2,3,2,4,6,7],\n",
        "    [8,2,3,1,1,4,2,7,1],\n",
        "    [5,3,1,3,1,3,1,3,6],\n",
        "])\n",
        "np.linalg.det(D)\n"
      ],
      "metadata": {
        "colab": {
          "base_uri": "https://localhost:8080/"
        },
        "id": "rYz4N3dmaIY1",
        "outputId": "49524830-0695-4507-bb8f-a4201c9a94e7"
      },
      "execution_count": 21,
      "outputs": [
        {
          "output_type": "execute_result",
          "data": {
            "text/plain": [
              "1.1557688139873759e-10"
            ]
          },
          "metadata": {},
          "execution_count": 21
        }
      ]
    },
    {
      "cell_type": "code",
      "source": [
        "#MATRIX NO.6\n",
        "\n",
        "# (10,10) Dimension\n",
        "\n",
        "D = np.array([\n",
        "    [1,4,1,6,8,7,1,3,8,6],\n",
        "    [5,3,1,3,1,3,1,3,6,1],\n",
        "    [2,8,2,2,2,2,6,2,7,2],\n",
        "    [3,2,6,8,1,4,2,7,2,9],\n",
        "    [9,7,6,3,7,1,3,8,1,1],\n",
        "    [2,8,2,2,8,2,3,1,5,2],\n",
        "    [3,5,1,2,3,2,4,6,7,4],\n",
        "    [8,2,3,1,1,4,2,7,1,5],\n",
        "    [5,3,1,3,1,3,1,3,6,2],\n",
        "    [1,4,1,6,8,7,1,3,8,6],\n",
        "])\n",
        "np.linalg.det(D)\n"
      ],
      "metadata": {
        "colab": {
          "base_uri": "https://localhost:8080/"
        },
        "id": "GSvU1PJVarji",
        "outputId": "aeddaabc-d53c-44b1-e64a-21672502fe28"
      },
      "execution_count": 23,
      "outputs": [
        {
          "output_type": "execute_result",
          "data": {
            "text/plain": [
              "-1.0265289187460019e-25"
            ]
          },
          "metadata": {},
          "execution_count": 23
        }
      ]
    }
  ]
}