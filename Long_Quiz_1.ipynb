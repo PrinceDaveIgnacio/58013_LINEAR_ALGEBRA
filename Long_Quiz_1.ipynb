{
  "nbformat": 4,
  "nbformat_minor": 0,
  "metadata": {
    "colab": {
      "provenance": [],
      "authorship_tag": "ABX9TyN4iLANtcbXIZBn78qfrOAY",
      "include_colab_link": true
    },
    "kernelspec": {
      "name": "python3",
      "display_name": "Python 3"
    },
    "language_info": {
      "name": "python"
    }
  },
  "cells": [
    {
      "cell_type": "markdown",
      "metadata": {
        "id": "view-in-github",
        "colab_type": "text"
      },
      "source": [
        "<a href=\"https://colab.research.google.com/github/PrinceDaveIgnacio/58013_LINEAR_ALGEBRA/blob/main/Long_Quiz_1.ipynb\" target=\"_parent\"><img src=\"https://colab.research.google.com/assets/colab-badge.svg\" alt=\"Open In Colab\"/></a>"
      ]
    },
    {
      "cell_type": "markdown",
      "source": [
        "Problem 1."
      ],
      "metadata": {
        "id": "DPXWsHCtRaMV"
      }
    },
    {
      "cell_type": "code",
      "source": [
        "import numpy as np\n",
        "\n",
        "A = np.array([[1,2,3],[4,5,6]])\n",
        "B = np.array([[1,2],[3,4],[5,6]])\n",
        "C = np.array([[1,2,3],[4,5,6],[7,8,9]])\n",
        "D = np.array([[1,2],[3,4]])\n",
        "\n",
        "##OUTPUTS OF THE ARRAYS FOR TESTING\n",
        "#print( A)\n",
        "#print(B)\n",
        "#print(C)\n",
        "#print(D)\n",
        "\n",
        "#Answers starts here below:\n",
        "#PROBLEM1\n",
        "\n",
        "\n",
        "#a. AB\n",
        "a = np.dot(A,B)\n",
        "print(\"Answer a: \\n\", a)\n",
        "#b. D + D\n",
        "b = np.add(D,D)\n",
        "print(\"Answer b: \\n\" , b)\n",
        "\n",
        "#c. 2C\n",
        "c = np.multiply(2,C)\n",
        "print(\"Answer c: \\n\", c)"
      ],
      "metadata": {
        "colab": {
          "base_uri": "https://localhost:8080/"
        },
        "id": "hb7YR5HHRU22",
        "outputId": "aa751e65-f394-41f1-fd80-ad1bf27d2fe0"
      },
      "execution_count": 53,
      "outputs": [
        {
          "output_type": "stream",
          "name": "stdout",
          "text": [
            "Answer a: \n",
            " [[22 28]\n",
            " [49 64]]\n",
            "Answer b: \n",
            " [[2 4]\n",
            " [6 8]]\n",
            "Answer c: \n",
            " [[ 2  4  6]\n",
            " [ 8 10 12]\n",
            " [14 16 18]]\n"
          ]
        }
      ]
    },
    {
      "cell_type": "markdown",
      "source": [
        "Problem 2."
      ],
      "metadata": {
        "id": "SpPUbsGBdP0l"
      }
    },
    {
      "cell_type": "code",
      "source": [
        "#cross product\n",
        "\n",
        "A2 = np.array([2,7,4])\n",
        "B2 = np.array([3,9,8])\n",
        "\n",
        "cp = np.cross(A2,B2)\n",
        "print(\"A2 x B2 \\n\")\n",
        "print(\"[2,7,4] x [3,9,8] \\n\")\n",
        "\n",
        "print(\"Answer: \\n\")\n",
        "print(cp)"
      ],
      "metadata": {
        "colab": {
          "base_uri": "https://localhost:8080/"
        },
        "id": "UnbBEMOUdSNs",
        "outputId": "0f647324-ce9f-49be-d101-c6aa838f85a6"
      },
      "execution_count": 57,
      "outputs": [
        {
          "output_type": "stream",
          "name": "stdout",
          "text": [
            "A2 x B2 \n",
            "\n",
            "[2,7,4] x [3,9,8] \n",
            "\n",
            "Answer: \n",
            "\n",
            "[20 -4 -3]\n"
          ]
        }
      ]
    }
  ]
}