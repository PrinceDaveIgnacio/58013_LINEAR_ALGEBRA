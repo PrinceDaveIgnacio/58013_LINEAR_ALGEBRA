{
  "nbformat": 4,
  "nbformat_minor": 0,
  "metadata": {
    "colab": {
      "provenance": [],
      "authorship_tag": "ABX9TyP45uelZ4ukYOzG4zmor78/",
      "include_colab_link": true
    },
    "kernelspec": {
      "name": "python3",
      "display_name": "Python 3"
    },
    "language_info": {
      "name": "python"
    }
  },
  "cells": [
    {
      "cell_type": "markdown",
      "metadata": {
        "id": "view-in-github",
        "colab_type": "text"
      },
      "source": [
        "<a href=\"https://colab.research.google.com/github/PrinceDaveIgnacio/58013_LINEAR_ALGEBRA/blob/main/Python_Exercise_2.ipynb\" target=\"_parent\"><img src=\"https://colab.research.google.com/assets/colab-badge.svg\" alt=\"Open In Colab\"/></a>"
      ]
    },
    {
      "cell_type": "markdown",
      "source": [
        "Scalars"
      ],
      "metadata": {
        "id": "tOOj52BYyQu4"
      }
    },
    {
      "cell_type": "code",
      "source": [
        "import numpy as np\n",
        "\n",
        "x = np.array(-0.5)\n",
        "print(x)"
      ],
      "metadata": {
        "id": "Bb-gD3DryWJx"
      },
      "execution_count": null,
      "outputs": []
    },
    {
      "cell_type": "markdown",
      "source": [
        "Vectors"
      ],
      "metadata": {
        "id": "BHxmQroEynZO"
      }
    },
    {
      "cell_type": "code",
      "source": [
        "A = np.array([4,3])\n",
        "B = np.array([2, -5])\n",
        "\n",
        "print('Vector A is ', A)\n",
        "print('Vector B is ', B)"
      ],
      "metadata": {
        "id": "U1BRt81xyerf"
      },
      "execution_count": null,
      "outputs": []
    },
    {
      "cell_type": "markdown",
      "source": [
        "Describing Vectors in Numpy"
      ],
      "metadata": {
        "id": "XYQGOcaYydLx"
      }
    },
    {
      "cell_type": "code",
      "source": [
        "### Checking shapes\n",
        "### Shapes tells us how many rows and columns are there\n",
        "import numpy as np\n",
        "\n",
        "ball1 = np.array([1,2,3])\n",
        "ball2 = np.array([0,1,-1])\n",
        "J = ball1\n",
        "K = ball2\n",
        "pool = np.array([J,K]) ## Matrix\n",
        "print(pool.shape)\n",
        "\n",
        "U = np.array([\n",
        "    [1, 2],\n",
        "    [2, 3]\n",
        "])\n",
        "print(U.shape)\n",
        "\n",
        "### Checking size\n",
        "### Array/Vector sizes tells us many total number of elements are there in the vector\n",
        "\n",
        "print(U.size)\n",
        "\n",
        "### Checking dimensions\n",
        "### The dimensions or rank of a vector tells us how many dimensions are there for the vector.\n",
        "print(A.ndim)\n",
        "\n",
        "print(pool.ndim)\n"
      ],
      "metadata": {
        "id": "Ok0EF7Idy_6g"
      },
      "execution_count": null,
      "outputs": []
    }
  ]
}