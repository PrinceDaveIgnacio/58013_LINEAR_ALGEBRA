{
  "nbformat": 4,
  "nbformat_minor": 0,
  "metadata": {
    "colab": {
      "provenance": [],
      "authorship_tag": "ABX9TyOcVMDGD0V6DONw5LVdGMaC",
      "include_colab_link": true
    },
    "kernelspec": {
      "name": "python3",
      "display_name": "Python 3"
    },
    "language_info": {
      "name": "python"
    }
  },
  "cells": [
    {
      "cell_type": "markdown",
      "metadata": {
        "id": "view-in-github",
        "colab_type": "text"
      },
      "source": [
        "<a href=\"https://colab.research.google.com/github/PrinceDaveIgnacio/58013_LINEAR_ALGEBRA/blob/main/Prelim_Exam.ipynb\" target=\"_parent\"><img src=\"https://colab.research.google.com/assets/colab-badge.svg\" alt=\"Open In Colab\"/></a>"
      ]
    },
    {
      "cell_type": "markdown",
      "source": [
        "Question 1. (20 points) Create a Multiplication Table/Chart of 1 to 10 using numpy/ python program."
      ],
      "metadata": {
        "id": "OGXcC2_QyTyl"
      }
    },
    {
      "cell_type": "code",
      "source": [
        "import numpy as np\n",
        "\n",
        "def mult_t(n):\n",
        "  rng = np.arange(1, n+1)\n",
        "  return rng * rng [:, None]\n",
        "\n",
        "print(mult_t(10))"
      ],
      "metadata": {
        "id": "piNXIo1VyINM",
        "colab": {
          "base_uri": "https://localhost:8080/"
        },
        "outputId": "dae44cb7-e5cf-4740-917a-4668938acbf3"
      },
      "execution_count": 78,
      "outputs": [
        {
          "output_type": "stream",
          "name": "stdout",
          "text": [
            "[[  1   2   3   4   5   6   7   8   9  10]\n",
            " [  2   4   6   8  10  12  14  16  18  20]\n",
            " [  3   6   9  12  15  18  21  24  27  30]\n",
            " [  4   8  12  16  20  24  28  32  36  40]\n",
            " [  5  10  15  20  25  30  35  40  45  50]\n",
            " [  6  12  18  24  30  36  42  48  54  60]\n",
            " [  7  14  21  28  35  42  49  56  63  70]\n",
            " [  8  16  24  32  40  48  56  64  72  80]\n",
            " [  9  18  27  36  45  54  63  72  81  90]\n",
            " [ 10  20  30  40  50  60  70  80  90 100]]\n"
          ]
        }
      ]
    },
    {
      "cell_type": "markdown",
      "source": [
        "Question 2. (10 points) In relation to Question 1, show a solution that doubles all the values of each element."
      ],
      "metadata": {
        "id": "XTeHCKHOy46j"
      }
    },
    {
      "cell_type": "code",
      "source": [
        "import numpy as np\n",
        "\n",
        "def mult_t(n):\n",
        "\n",
        "  rng = np.arange(1, n+1)\n",
        "  return rng * 2 * rng[:, None]\n",
        "\n",
        "\n",
        "print(mult_t(10))"
      ],
      "metadata": {
        "id": "iY5Wih7ey5Lj",
        "colab": {
          "base_uri": "https://localhost:8080/"
        },
        "outputId": "b693b819-0ba3-4876-fab1-cd1197eced61"
      },
      "execution_count": 79,
      "outputs": [
        {
          "output_type": "stream",
          "name": "stdout",
          "text": [
            "[[  2   4   6   8  10  12  14  16  18  20]\n",
            " [  4   8  12  16  20  24  28  32  36  40]\n",
            " [  6  12  18  24  30  36  42  48  54  60]\n",
            " [  8  16  24  32  40  48  56  64  72  80]\n",
            " [ 10  20  30  40  50  60  70  80  90 100]\n",
            " [ 12  24  36  48  60  72  84  96 108 120]\n",
            " [ 14  28  42  56  70  84  98 112 126 140]\n",
            " [ 16  32  48  64  80  96 112 128 144 160]\n",
            " [ 18  36  54  72  90 108 126 144 162 180]\n",
            " [ 20  40  60  80 100 120 140 160 180 200]]\n"
          ]
        }
      ]
    },
    {
      "cell_type": "markdown",
      "source": [
        "Question 3. (10 points) Create a square matrix that has a diagonal 1's."
      ],
      "metadata": {
        "id": "iLWci_KOzBLS"
      }
    },
    {
      "cell_type": "code",
      "source": [
        "A = np.eye(5,5)\n",
        "\n",
        "print(A)\n"
      ],
      "metadata": {
        "id": "bdG8-irCzAry",
        "colab": {
          "base_uri": "https://localhost:8080/"
        },
        "outputId": "68b9c26f-4cc3-4eb7-d214-b38ae687d04f"
      },
      "execution_count": 56,
      "outputs": [
        {
          "output_type": "stream",
          "name": "stdout",
          "text": [
            "[[1. 0. 0. 0. 0.]\n",
            " [0. 1. 0. 0. 0.]\n",
            " [0. 0. 1. 0. 0.]\n",
            " [0. 0. 0. 1. 0.]\n",
            " [0. 0. 0. 0. 1.]]\n"
          ]
        }
      ]
    },
    {
      "cell_type": "markdown",
      "source": [
        "Question 4. (30 points) Create a matrix whose elements are:"
      ],
      "metadata": {
        "id": "aZzBI9J0zYDa"
      }
    },
    {
      "cell_type": "code",
      "source": [
        "import numpy as np\n",
        "\n",
        "matrix = np.array([[1, 2, 3, 4],\n",
        "                   [5, 6, 7, 8],\n",
        "                   [9, 10, 11, 12]])\n",
        "\n",
        "print(\"the matrix size is: \", matrix.size)\n",
        "print(\"the matrix shape is: \", matrix.shape)\n",
        "print(\"the matrix dimension is: \", matrix.ndim)"
      ],
      "metadata": {
        "id": "88fiEv6D0BIK",
        "colab": {
          "base_uri": "https://localhost:8080/"
        },
        "outputId": "925b052c-d109-43e3-ad34-8e2726d76c76"
      },
      "execution_count": 26,
      "outputs": [
        {
          "output_type": "stream",
          "name": "stdout",
          "text": [
            "the matrix size is:  12\n",
            "the matrix shape is:  (3, 4)\n",
            "the matrix dimension is:  2\n"
          ]
        }
      ]
    },
    {
      "cell_type": "markdown",
      "source": [
        "Question 5. (30 points) Create a result array by adding the following two NumPy arrays. Next, modify the result array by calculating the square of each element."
      ],
      "metadata": {
        "id": "LkRBpf9ozqN6"
      }
    },
    {
      "cell_type": "code",
      "source": [
        "import numpy as numpy\n",
        "\n",
        "arrayOne = numpy.array([[5,6,9],[21,18,27]])\n",
        "arrayTwo = numpy.array([[15,33,24],[4,7,1]])\n",
        "\n",
        "\n",
        "#sum of two arrays\n",
        "sum1 = arrayOne + arrayTwo\n",
        "print(\"The sum of two arrays: \\n\", sum1)\n",
        "print(\"\\n\")\n",
        "\n",
        "\n",
        "\n",
        "#square of the result\n",
        "arrSquare = sum1**2\n",
        "print(\"The square of the result: \\n\", arrSquare)\n",
        "print(\"\\n\")\n"
      ],
      "metadata": {
        "colab": {
          "base_uri": "https://localhost:8080/"
        },
        "id": "k9fw0TN52Oym",
        "outputId": "d41c6c05-fdb4-4521-b1b9-80f78978f70f"
      },
      "execution_count": 55,
      "outputs": [
        {
          "output_type": "stream",
          "name": "stdout",
          "text": [
            "The sum of two arrays: \n",
            " [[20 39 33]\n",
            " [25 25 28]]\n",
            "\n",
            "\n",
            "The square of the result: \n",
            " [[ 400 1521 1089]\n",
            " [ 625  625  784]]\n",
            "\n",
            "\n"
          ]
        }
      ]
    }
  ]
}